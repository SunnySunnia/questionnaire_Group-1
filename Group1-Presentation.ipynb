{
 "metadata": {
  "name": "Group1-Presentation"
 },
 "nbformat": 3,
 "nbformat_minor": 0,
 "worksheets": [
  {
   "cells": [
    {
     "cell_type": "markdown",
     "metadata": {},
     "source": [
      "Stat 157 Questionnaire Data Wrangling\n",
      "=====================================\n",
      "\n",
      "In our very first collaborative project, we used data from our class (Stat 157) that we generated from filling out the course's introductory questionnaire through Google survey framework. The questionnaire contained questions that sought to find out more about each individual student's background coming into the class. Questions included what classes we had taken before, what skills we were comfortable with, what our learning styles were, as well as several others.\n",
      "\n",
      "For the purposes of this project, we decided to analyze two columns from the spreadsheet data: 1) the column labeled \"What is your learning style?\" and 2) where did you gain experience in the languages (R, Python, etc.).\n",
      "\n",
      "In order to carry this out, we had to make use of Google's API. Because the data that we received was **dirty**, our job was to first clean it up to make it ready for analysis. "
     ]
    },
    {
     "cell_type": "markdown",
     "metadata": {},
     "source": [
      "<h1>Data Curation</h1>\n",
      "The first step that we had to go through was the process of data curation or data cleaning. Arif Ali was primarily responsible for this section. Install the gpsread library onto your virtual machine using sudo pip install gspread\n"
     ]
    },
    {
     "cell_type": "code",
     "collapsed": false,
     "input": [
      "import os.path\n",
      "import ConfigParser\n",
      "import gspread\n",
      "home = os.path.expanduser(\"~\")"
     ],
     "language": "python",
     "metadata": {},
     "outputs": []
    },
    {
     "cell_type": "code",
     "collapsed": false,
     "input": [
      "configfile = os.path.join(home, 'stat157.cfg')\n",
      "config = ConfigParser.SafeConfigParser()\n",
      "config.read(configfile)\n",
      "username = config.get('google', 'username')\n",
      "password = config.get('google', 'password')\n",
      "print username\n",
      "# BUG: I've hard coded this variable instead of reading from the cfg file due to\n",
      "# human error in replicating the cfg file, so adding temporary\n",
      "docid = \"0Aj1QXjQixf-SdENDS1FzR1FGNE1kLUk0WGR1SW5peVE\"\n",
      "client = gspread.login(username, password)\n",
      "spreadsheet = client.open_by_key(docid)\n",
      "#In the ~/project1/stat157.cfg file, edit docid, that is where the error is\n",
      "worksheet = spreadsheet.get_worksheet(0)\n",
      "print docid"
     ],
     "language": "python",
     "metadata": {},
     "outputs": []
    },
    {
     "cell_type": "code",
     "collapsed": false,
     "input": [
      "le = \"What is your learning style?\"\n",
      "pe = \"Where did you gain personal experience?\"\n",
      "columns = [le, pe]\n",
      "data_for_HW2 = []\n",
      "for row in worksheet.get_all_records():\n",
      "    data_for_HW2.append({k:v for k,v in row.iteritems()\n",
      "                        if k in columns}"
     ],
     "language": "python",
     "metadata": {},
     "outputs": []
    },
    {
     "cell_type": "code",
     "collapsed": false,
     "input": [
      "HW2 = []\n",
      "with open(\"Learning.txt\", \"w\") as f, open(\"personal.txt\", \"w\") as f2:\n",
      "    for row in data_for_HW2:\n",
      "        LE = row[le] +\"\\n\"\n",
      "        print LE\n",
      "        PE = row[pe] + \"\\n\"\n",
      "        print PE \n",
      "        f.write(LE.encode(\"utf-8\"))\n",
      "        f2.write(PE.encode(\"utf-8\"))"
     ],
     "language": "python",
     "metadata": {},
     "outputs": []
    },
    {
     "cell_type": "markdown",
     "metadata": {},
     "source": [
      "After executing this code, one can return back to the unix prompt. Initiate R (verison 3.0.0 or higher if possible) within the directory in terminal that all the files are stored in and the execute command: source(\"hw2.R\"). This "
     ]
    },
    {
     "cell_type": "markdown",
     "metadata": {},
     "source": [
      "<h1>Data Analysis</h1>\n",
      "Once the data has been cleaned and ready to use, John Risko performed analysis in R to gain insights into the data that we obtained.\n",
      "    "
     ]
    },
    {
     "cell_type": "raw",
     "metadata": {},
     "source": [
      "# Loaded the Learning File into R\n",
      "Learning=readLines(\"Learning.txt\")\n",
      "\n",
      "#Find ALl Lines With Numbers\n",
      "LEA = as.numeric(gsub(\"[^0-9]*\", \"\", Learning))\n",
      "\n",
      "#Remove NA's\n",
      "LEA= as.numeric(LEA[!is.na(LEA)])\n",
      "\n",
      "#Created vectors with length 30\n",
      "Learninglast = (length(LEA)-4)/4\n",
      "\n",
      "#Created Visual, Aural, Read_Write, and Kinesthetic vectors with length of Learninglast\n",
      "Visual = LEA[c(1,1+4*(1:Learninglast))]\n",
      "Aural = LEA[c(2,2+4*(1:Learninglast))]\n",
      "Read_Write = LEA[c(3,3+4*(1:Learninglast))]\n",
      "Kinesthetic = LEA[c(4,4+4*(1:Learninglast))]\n",
      "\n",
      "#Created dataframe of Visual, Aural, Read_Write, and Kinesthetic vectors:\n",
      "Skills=data.frame(Visual,Aural,Read_Write,Kinesthetic)\n",
      "\n",
      "# Sum the columns to determine aggregate skill levels (sample test of 31 respondents)\n",
      "aggregate=colSums(Skills)\n",
      "\n",
      "write.csv(aggregate,\"aggregate.csv\")\n",
      "\n",
      "#Nice little bar plot of the results\n",
      "barplot(aggregate,col=c(\"blue\",\"red\",\"green\",\"purple\"),main=\"Agggregate Skill Sample Size 31\",ylim=c(0,250))\n",
      "DIstribution of learning styles\n",
      "\n",
      "#How Diverse is our class? We examine the marginal distribution of numerical answers by taking the sum of the row\n",
      "\n",
      "Diversity=rowSums(Skills)\n",
      "sortDi=sort(Diversity)\n",
      "#Nice Plot where I sorted the rowsums and graphed it to see how spread the aggregate numerical answers were at the margin.\n",
      "write.csv(sortDi, \"sortDi.csv\")\n",
      "\n",
      "plot(sort(sortDi),col=\"red\",main=\"Specialists vs. Generalists\",type=\"b\",pch=18,ylab=\"Aggregate Numerical Answers\",xlab=\"Students\")\n",
      "#Conclusion: Equipped for diverse learning environments. While aggregate skills say class is unified, the marginal brakdown suggests this is due to the class coming together. Marginally things look very dispersed, but people can compliment each other and help each other grow and learn.\n",
      "\n",
      "#Loaded the Preferences File into R\n",
      "Preferences=readLines(\"personal.txt\")\n",
      "Preferences\n",
      "\n",
      "#Determine how many people learned from classes/course material rather tahn professional or personal environments\n",
      "Class=grep(\"[Cc]lass\",Preferences)\n",
      "Course=grep(\"[Cc]ourse+\",Preferences)\n",
      "Nerds=length(Class)+length(Course)\n",
      "\n",
      "#Determine how many people learned from internships and professional experiences\n",
      "Internship=grep(\"[Ii]nternship+\",Preferences)\n",
      "Work=grep(\"[Ww]ork\",Preferences)\n",
      "Job=grep(\"[Jj]ob\",Preferences)\n",
      "MoMoney=length(Internship) +length(Work)+length(Job)\n",
      "\n",
      "#Adjusted for repeats to determine how many people learn the material socially and for fun. The subtraction is for an adjustment\n",
      "Personal_Projects=grep(\"[Pp]ersonal\",Preferences)\n",
      "Friends=grep(\"[Ff]riend+\",Preferences)\n",
      "SuperNerds=length(Friends)+length(Personal_Projects)-4\n",
      "\n",
      "# Let's make it a plot!\n",
      "\n",
      "#First, we aggregate the three sums into a vector of length 3\n",
      "collection=c(Nerds,MoMoney,SuperNerds)\n",
      "\n",
      "#Make a pie chart!\n",
      "lbls=c(\"Class (10)\",\"Work (14)\",\"Social (21)\")\n",
      "\n",
      "pie(collection,col=c(\"blue\",\"gold\",\"turquoise\"),labels=lbls,main=\"Sources of learning\")\n",
      "# Conclusion: The majority of the class has a lot of experience learning the material through personal projects. This may be attributable to thee computational aspects of the course as traditionally, programming is learned from experience outside of the classroom. I haven't accounted for overlap, but I don't think overlap matters in this case.\n"
     ]
    },
    {
     "cell_type": "markdown",
     "metadata": {},
     "source": [
      "<h1>Visualization</h1>\n",
      "After we found some interesting insights of our data, a good way to help communicate those insights would be through several visualizations created by Sunny Sunnia. "
     ]
    },
    {
     "cell_type": "code",
     "collapsed": false,
     "input": [
      "import numpy as np  \n",
      "import pandas as pd\n",
      "from pylab import *\n",
      "import matplotlib\n",
      "import matplotlib.pyplot\n",
      "import matplotlib.pyplot as plt\n",
      "from matplotlib.backends.backend_agg import FigureCanvasAgg as fc\n",
      "import csv\n",
      "import ast"
     ],
     "language": "python",
     "metadata": {},
     "outputs": []
    },
    {
     "cell_type": "code",
     "collapsed": false,
     "input": [
      "%pylab inline"
     ],
     "language": "python",
     "metadata": {},
     "outputs": []
    },
    {
     "cell_type": "code",
     "collapsed": false,
     "input": [
      "csvf = open(\"counts.csv\", \"r\")\n",
      "data = list(csv.reader(csvf))\n",
      "\n",
      "n=[]\n",
      "Visual = []\n",
      "Aural=[]\n",
      "RorW=[]\n",
      "Kines=[]\n",
      "for row in data[1:]:\n",
      "    n.append(row[0])\n",
      "    Visual.append(row[1])\n",
      "    Aural.append(row[2])\n",
      "    RorW.append(row[3])\n",
      "    Kines.append(row[4])\n",
      "for i in range(0,16):\n",
      "    Visual[i]=int(Visual[i])\n",
      "    Aural[i]=int(Aural[i])\n",
      "    RorW[i]=int(RorW[i])\n",
      "    Kines[i]=int(Kines[i])\n",
      "    n[i]=int(n[i])\n",
      "print Visual, Aural, RorW, Kines, n"
     ],
     "language": "python",
     "metadata": {},
     "outputs": []
    },
    {
     "cell_type": "code",
     "collapsed": false,
     "input": [
      "fig, axes = plt.subplots(1, 4, figsize=(17,6))\n",
      "axes[0].bar(n, Visual, align=\"center\", width=0.5, alpha=0.5)\n",
      "axes[0].set_xlabel('Visual')\n",
      "axes[1].bar(n, Aural, align=\"center\", width=0.5, alpha=0.5,color='r')\n",
      "axes[1].set_xlabel('Aural')\n",
      "axes[1].set_title(\"Summaries of\")\n",
      "axes[2].bar(n, RorW, align=\"center\", width=0.5, alpha=0.5,color='green')\n",
      "axes[2].set_xlabel('Read/Write')\n",
      "axes[2].set_title(\"Learning Styles\")\n",
      "axes[3].bar(n, Kines, align=\"center\", width=0.5, alpha=0.5,color='purple')\n",
      "axes[3].set_xlabel('Kinesthetic');"
     ],
     "language": "python",
     "metadata": {},
     "outputs": []
    },
    {
     "cell_type": "code",
     "collapsed": false,
     "input": [
      "agg = open(\"aggregate.csv\", \"r\")\n",
      "aggregate = list(csv.reader(agg))\n",
      "\n",
      "aggre=[]\n",
      "style=[]\n",
      "for row in aggregate[1:]:\n",
      "   style.append(row[0])\n",
      "   aggre.append(row[1])\n",
      "for i in range(0,4):\n",
      "    aggre[i]=int(aggre[i])\n",
      "print aggre, style"
     ],
     "language": "python",
     "metadata": {},
     "outputs": []
    },
    {
     "cell_type": "code",
     "collapsed": false,
     "input": [
      "N = 1\n",
      "v = aggre[0]\n",
      "\n",
      "ind = np.arange(N)  # the x locations for the groups\n",
      "width = 0.5      # the width of the bars\n",
      "\n",
      "fig, ax = plt.subplots(figsize=(7,4))\n",
      "rects1 = ax.bar(ind, v, width, color='blue', alpha=0.5)\n",
      "\n",
      "a = aggre[1]\n",
      "rects2 = ax.bar(ind+2*width, a, width, color='r',alpha=0.5)\n",
      "\n",
      "rw = aggre[2]\n",
      "rects3 = ax.bar(ind+4*width, rw, width, color='green',alpha=0.5)\n",
      "\n",
      "k = aggre[3]\n",
      "rects4 = ax.bar(ind+6*width, k, width, color='purple',alpha=0.5)\n",
      "\n",
      "ax.set_title('Agggregate Skill Sample Size 31')\n",
      "ax.set_xticks(ind+width)\n",
      "\n",
      "ax.legend((rects1[0], rects2[0], rects3[0],rects4[0]), (style) , loc=\"lower right\")\n",
      "\n",
      "def autolabel(rects):\n",
      "    # attach some text labels\n",
      "    for rect in rects:\n",
      "        height = rect.get_height()\n",
      "        ax.text(rect.get_x()+rect.get_width()/2., 1.05*height, '%d'%int(height),\n",
      "                ha='center', va='bottom')\n",
      "\n",
      "autolabel(rects1)\n",
      "autolabel(rects2)\n",
      "autolabel(rects3)\n",
      "autolabel(rects4)\n",
      "\n",
      "plt.show()"
     ],
     "language": "python",
     "metadata": {},
     "outputs": []
    },
    {
     "cell_type": "code",
     "collapsed": false,
     "input": [
      "div = open(\"sortDi.csv\", \"r\")\n",
      "diversity = list(csv.reader(div))\n",
      "\n",
      "xx=[]\n",
      "yy=[]\n",
      "for row in diversity[1:]:\n",
      "   xx.append(row[0])\n",
      "   yy.append(row[1])\n",
      "for i in range(0,31):\n",
      "    xx[i]=int(xx[i])\n",
      "    yy[i]=int(yy[i])\n",
      "print xx,yy"
     ],
     "language": "python",
     "metadata": {},
     "outputs": []
    },
    {
     "cell_type": "code",
     "collapsed": false,
     "input": [
      "fig, axes = plt.subplots()\n",
      "axes.plot(xx, yy, color=\"purple\", lw=1, ls='-', marker='o', markersize=8, markerfacecolor=\"red\")\n",
      "axes.set_xlabel('Students')\n",
      "axes.set_ylabel('Aggregate Numerical Answers')\n",
      "axes.set_title('Specialists vs. Generalists')"
     ],
     "language": "python",
     "metadata": {},
     "outputs": []
    },
    {
     "cell_type": "code",
     "collapsed": false,
     "input": [
      "prop = open(\"frac.csv\", \"r\")\n",
      "frac = list(csv.reader(prop))\n",
      "\n",
      "proportion=[]\n",
      "for row in frac[1:]:\n",
      "    proportion.append(row[1])\n",
      "for i in range(0,4):\n",
      "    proportion[i]=ast.literal_eval(proportion[i])\n",
      "print proportion"
     ],
     "language": "python",
     "metadata": {},
     "outputs": []
    },
    {
     "cell_type": "code",
     "collapsed": false,
     "input": [
      "mylabels=['Visual', 'Aural', 'Read/Write', 'Kinesthetic']\n",
      "mycolors=['blue', 'red', 'green', 'purple']\n",
      "pie(proportion,labels=mylabels,colors=mycolors,autopct='%1.1f%%', shadow=True, startangle=90)\n",
      "title('Class Proportion of each Learning Styles', bbox={'facecolor':'0.8', 'pad':5});"
     ],
     "language": "python",
     "metadata": {},
     "outputs": []
    },
    {
     "cell_type": "code",
     "collapsed": false,
     "input": [
      "personal = open(\"perexp.csv\", \"r\")\n",
      "perexp = list(csv.reader(personal))\n",
      "\n",
      "nn=[]\n",
      "perlabels = []\n",
      "cts=[]\n",
      "for row in perexp[1:]:\n",
      "    nn.append(int(row[0]))\n",
      "    perlabels.append(row[1])\n",
      "    cts.append(int(row[2]))\n",
      "print nn, perlabels, cts"
     ],
     "language": "python",
     "metadata": {},
     "outputs": []
    },
    {
     "cell_type": "code",
     "collapsed": false,
     "input": [
      "N = 1\n",
      "x1 = cts[0]\n",
      "\n",
      "ind = np.arange(N)  # the x locations for the groups\n",
      "width = 0.5      # the width of the bars\n",
      "\n",
      "fig, ab = plt.subplots(figsize=(10,4))\n",
      "rects1 = ab.bar(ind, x1, width, color='red', alpha=0.5)\n",
      "\n",
      "x2 = cts[1]\n",
      "rects2 = ab.bar(ind+2*width, x2, width, color='orange',alpha=0.5)\n",
      "\n",
      "x3 = cts[2]\n",
      "rects3 = ab.bar(ind+4*width, x3, width, color='yellow',alpha=0.5)\n",
      "\n",
      "x4 = cts[3]\n",
      "rects4 = ab.bar(ind+6*width, x4, width, color='green',alpha=0.5)\n",
      "\n",
      "x5 = cts[4]\n",
      "rects5 = ab.bar(ind+8*width, x5, width, color='blue',alpha=0.5)\n",
      "\n",
      "x6 = cts[5]\n",
      "rects6 = ab.bar(ind+10*width, x6, width, color='purple',alpha=0.5)\n",
      "ab.set_title('Where did you gain Personal Experiences')\n",
      "ab.set_ylabel('Counts')\n",
      "ab.set_xlabel('Categories')\n",
      "ab.set_xticks(ind+width)\n",
      "\n",
      "ab.legend((rects1[0], rects2[0], rects3[0],rects4[0],rects5[0],rects6[0]), (perlabels) , loc=\"upper right\")\n",
      "\n",
      "def autolabel(rects):\n",
      "    # attach some text labels\n",
      "    for rect in rects:\n",
      "        height = rect.get_height()\n",
      "        ab.text(rect.get_x()+rect.get_width()/2., 1.05*height, '%d'%int(height),\n",
      "                ha='center', va='bottom')\n",
      "        \n",
      "autolabel(rects1)\n",
      "autolabel(rects2)\n",
      "autolabel(rects3)\n",
      "autolabel(rects4)\n",
      "autolabel(rects5)\n",
      "autolabel(rects6)\n",
      "\n",
      "plt.show()"
     ],
     "language": "python",
     "metadata": {},
     "outputs": []
    },
    {
     "cell_type": "markdown",
     "metadata": {},
     "source": [
      "<h1>Conclusions</h1>\n",
      "The majority of the class has a lot of experience learning the material through personal projects. This may be attributable to thee computational aspects of the course as traditionally, programming is learned from experience outside of the classroom."
     ]
    },
    {
     "cell_type": "code",
     "collapsed": false,
     "input": [],
     "language": "python",
     "metadata": {},
     "outputs": []
    }
   ],
   "metadata": {}
  }
 ]
}