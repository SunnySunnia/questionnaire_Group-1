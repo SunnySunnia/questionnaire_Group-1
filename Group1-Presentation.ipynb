{
 "metadata": {
  "name": "Group1-Presentation"
 },
 "nbformat": 3,
 "nbformat_minor": 0,
 "worksheets": [
  {
   "cells": [
    {
     "cell_type": "markdown",
     "metadata": {},
     "source": [
      "Stat 157 Questionnaire Data Wrangling\n",
      "=====================================\n",
      "\n",
      "In our very first collaborative project, we used data from our class (Stat 157) that we generated from filling out the course's introductory questionnaire through Google survey framework. The questionnaire contained questions that sought to find out more about each individual student's background coming into the class. Questions included what classes we had taken before, what skills we were comfortable with, what our learning styles were, as well as several others.\n",
      "\n",
      "For the purposes of this project, we decided to analyze two columns from the spreadsheet data: 1) the column labeled \"What is your learning style?\" and 2) where did you gain experience in the languages (R, Python, etc.).\n",
      "\n",
      "In order to carry this out, we had to make use of Google's API. Because the data that we received was **dirty**, our job was to first clean it up to make it ready for analysis. "
     ]
    },
    {
     "cell_type": "markdown",
     "metadata": {},
     "source": [
      "<h1>Data Curation</h1>\n",
      "The first step that we had to go through was the process of data curation or data cleaning. Arif Ali was primarily responsible for this section. Install the gpsread library onto your virtual machine using sudo pip install gspread\n"
     ]
    },
    {
     "cell_type": "code",
     "collapsed": false,
     "input": [
      "import os.path\n",
      "import ConfigParser\n",
      "import gspread\n",
      "home = os.path.expanduser(\"~\")"
     ],
     "language": "python",
     "metadata": {},
     "outputs": []
    },
    {
     "cell_type": "code",
     "collapsed": false,
     "input": [
      "configfile = os.path.join(home, 'stat157.cfg')\n",
      "config = ConfigParser.SafeConfigParser()\n",
      "config.read(configfile)\n",
      "username = config.get('google', 'username')\n",
      "password = config.get('google', 'password')\n",
      "print username\n",
      "# BUG: I've hard coded this variable instead of reading from the cfg file due to\n",
      "# human error in replicating the cfg file, so adding temporary\n",
      "docid = \"0Aj1QXjQixf-SdENDS1FzR1FGNE1kLUk0WGR1SW5peVE\"\n",
      "client = gspread.login(username, password)\n",
      "spreadsheet = client.open_by_key(docid)\n",
      "#In the ~/project1/stat157.cfg file, edit docid, that is where the error is\n",
      "worksheet = spreadsheet.get_worksheet(0)\n",
      "print docid"
     ],
     "language": "python",
     "metadata": {},
     "outputs": []
    },
    {
     "cell_type": "code",
     "collapsed": false,
     "input": [
      "le = \"What is your learning style?\"\n",
      "pe = \"Where did you gain personal experience?\"\n",
      "columns = [le, pe]\n",
      "data_for_HW2 = []\n",
      "for row in worksheet.get_all_records():\n",
      "    data_for_HW2.append({k:v for k,v in row.iteritems()\n",
      "                        if k in columns}"
     ],
     "language": "python",
     "metadata": {},
     "outputs": []
    },
    {
     "cell_type": "code",
     "collapsed": false,
     "input": [
      "HW2 = []\n",
      "with open(\"Learning.txt\", \"w\") as f, open(\"personal.txt\", \"w\") as f2:\n",
      "    for row in data_for_HW2:\n",
      "        LE = row[le] +\"\\n\"\n",
      "        print LE\n",
      "        PE = row[pe] + \"\\n\"\n",
      "        print PE \n",
      "        f.write(LE.encode(\"utf-8\"))\n",
      "        f2.write(PE.encode(\"utf-8\"))"
     ],
     "language": "python",
     "metadata": {},
     "outputs": []
    },
    {
     "cell_type": "markdown",
     "metadata": {},
     "source": [
      "After executing this code, one can return back to the unix prompt. Initiate R (verison 3.0.0 or higher if possible) within the directory in terminal that all the files are stored in and the execute command: source(\"hw2.R\"). This "
     ]
    },
    {
     "cell_type": "markdown",
     "metadata": {},
     "source": [
      "<h1>Data Analysis</h1>\n",
      "Once the data has been cleaned and ready to use, John Risko performed analysis in R to gain insights into the data that we obtained.\n",
      "    "
     ]
    },
    {
     "cell_type": "raw",
     "metadata": {},
     "source": [
      "In my analysis, I wanted to accomplish three things:\n",
      "1)\tWhat is the total learning aptitude in the class?\n",
      "a.\tTo find the total learning aptitude, I summed the columns of the matrix containing the numerical results (Visual, Aural, etc.) This was not a complete sample of the class but had a sample size of 31 people. I found that the distribution of aggregate aptitudes was distributed uniformly. This suggests the class as a whole has a balance in learning aptitude.\n",
      "\n",
      "The results were:\n",
      "    i.\t    Visual       Aural  Read_Write Kinesthetic \n",
      "                221         208         214         222 "
     ]
    },
    {
     "cell_type": "raw",
     "metadata": {},
     "source": [
      "2)\tWhat are the marginal learning preferences?\n",
      "a.\tThe story is very different when we look at the marginal learning preferences by student. At the marginal level, students exhibit dramatic differences in total learning aptitude. Those with lower numbers appear to be very specific in how they prefer learning. Their numbers are low due to more specificity in learning environments, whereas the higher levels correspond to more generalized learning environments. Here is a summary of the distribution:\n",
      "1.\t> summary(Diversity)\n",
      "2.\t   Min. 1st Qu.  Median    Mean 3rd Qu.    Max. \n",
      "3.\t   16.0    22.0    28.0    27.9    35.5    45.0\n"
     ]
    },
    {
     "cell_type": "raw",
     "metadata": {},
     "source": [
      "3)\tHow did everyone get to learn the subject?\n",
      "a.\tTo see how people became familiar with the material in this class, I used grep to search for words associated with 1 of three categories: Work, School, and Social. I searched for responses with \u201cinternships, work or jobs\u201d and put that in the work category. I searched for responses with \u201cclass and course\u201d and placed them in the class category. I searched for responses with \u201c personal and friends\u201d and put them in the social category. I eliminated crossovers within 1 group (a response with \u201cinternship\u201d and \u201cwork\u201d would be counted once in the work category. There remains crossovers between groups, but I just wanted to see relative ratios and its perfectly reasonable to say you learned the material in two environments.  Overall, I found 21 put Social, 14 put work, and 10 put class as their primary method of learning the material. There appears a higher concentration in self-motivated study, implying the group as a whole is genuinely interested in the field of collaborative and reproducible data."
     ]
    },
    {
     "cell_type": "markdown",
     "metadata": {},
     "source": [
      "<h1>Visualization</h1>\n",
      "After we found some interesting insights of our data, a good way to help communicate those insights would be through several visualizations created by Sunny Sunnia. "
     ]
    },
    {
     "cell_type": "code",
     "collapsed": false,
     "input": [
      "import numpy as np  \n",
      "import pandas as pd\n",
      "from pylab import *\n",
      "import matplotlib\n",
      "import matplotlib.pyplot\n",
      "import matplotlib.pyplot as plt\n",
      "from matplotlib.backends.backend_agg import FigureCanvasAgg as fc\n",
      "import csv\n",
      "import ast"
     ],
     "language": "python",
     "metadata": {},
     "outputs": []
    },
    {
     "cell_type": "code",
     "collapsed": false,
     "input": [
      "%pylab inline"
     ],
     "language": "python",
     "metadata": {},
     "outputs": []
    },
    {
     "cell_type": "code",
     "collapsed": false,
     "input": [
      "csvf = open(\"counts.csv\", \"r\")\n",
      "data = list(csv.reader(csvf))\n",
      "\n",
      "n=[]\n",
      "Visual = []\n",
      "Aural=[]\n",
      "RorW=[]\n",
      "Kines=[]\n",
      "for row in data[1:]:\n",
      "    n.append(row[0])\n",
      "    Visual.append(row[1])\n",
      "    Aural.append(row[2])\n",
      "    RorW.append(row[3])\n",
      "    Kines.append(row[4])\n",
      "for i in range(0,16):\n",
      "    Visual[i]=int(Visual[i])\n",
      "    Aural[i]=int(Aural[i])\n",
      "    RorW[i]=int(RorW[i])\n",
      "    Kines[i]=int(Kines[i])\n",
      "    n[i]=int(n[i])\n",
      "print Visual, Aural, RorW, Kines, n"
     ],
     "language": "python",
     "metadata": {},
     "outputs": []
    },
    {
     "cell_type": "code",
     "collapsed": false,
     "input": [
      "fig, axes = plt.subplots(1, 4, figsize=(17,6))\n",
      "axes[0].bar(n, Visual, align=\"center\", width=0.5, alpha=0.5)\n",
      "axes[0].set_xlabel('Visual')\n",
      "axes[1].bar(n, Aural, align=\"center\", width=0.5, alpha=0.5,color='r')\n",
      "axes[1].set_xlabel('Aural')\n",
      "axes[1].set_title(\"Summaries of\")\n",
      "axes[2].bar(n, RorW, align=\"center\", width=0.5, alpha=0.5,color='green')\n",
      "axes[2].set_xlabel('Read/Write')\n",
      "axes[2].set_title(\"Learning Styles\")\n",
      "axes[3].bar(n, Kines, align=\"center\", width=0.5, alpha=0.5,color='purple')\n",
      "axes[3].set_xlabel('Kinesthetic');"
     ],
     "language": "python",
     "metadata": {},
     "outputs": []
    },
    {
     "cell_type": "code",
     "collapsed": false,
     "input": [
      "agg = open(\"aggregate.csv\", \"r\")\n",
      "aggregate = list(csv.reader(agg))\n",
      "\n",
      "aggre=[]\n",
      "style=[]\n",
      "for row in aggregate[1:]:\n",
      "   style.append(row[0])\n",
      "   aggre.append(row[1])\n",
      "for i in range(0,4):\n",
      "    aggre[i]=int(aggre[i])\n",
      "print aggre, style"
     ],
     "language": "python",
     "metadata": {},
     "outputs": []
    },
    {
     "cell_type": "code",
     "collapsed": false,
     "input": [
      "N = 1\n",
      "v = aggre[0]\n",
      "\n",
      "ind = np.arange(N)  # the x locations for the groups\n",
      "width = 0.5      # the width of the bars\n",
      "\n",
      "fig, ax = plt.subplots(figsize=(7,4))\n",
      "rects1 = ax.bar(ind, v, width, color='blue', alpha=0.5)\n",
      "\n",
      "a = aggre[1]\n",
      "rects2 = ax.bar(ind+2*width, a, width, color='r',alpha=0.5)\n",
      "\n",
      "rw = aggre[2]\n",
      "rects3 = ax.bar(ind+4*width, rw, width, color='green',alpha=0.5)\n",
      "\n",
      "k = aggre[3]\n",
      "rects4 = ax.bar(ind+6*width, k, width, color='purple',alpha=0.5)\n",
      "\n",
      "ax.set_title('Agggregate Skill Sample Size 31')\n",
      "ax.set_xticks(ind+width)\n",
      "\n",
      "ax.legend((rects1[0], rects2[0], rects3[0],rects4[0]), (style) , loc=\"lower right\")\n",
      "\n",
      "def autolabel(rects):\n",
      "    # attach some text labels\n",
      "    for rect in rects:\n",
      "        height = rect.get_height()\n",
      "        ax.text(rect.get_x()+rect.get_width()/2., 1.05*height, '%d'%int(height),\n",
      "                ha='center', va='bottom')\n",
      "\n",
      "autolabel(rects1)\n",
      "autolabel(rects2)\n",
      "autolabel(rects3)\n",
      "autolabel(rects4)\n",
      "\n",
      "plt.show()"
     ],
     "language": "python",
     "metadata": {},
     "outputs": []
    },
    {
     "cell_type": "code",
     "collapsed": false,
     "input": [
      "div = open(\"sortDi.csv\", \"r\")\n",
      "diversity = list(csv.reader(div))\n",
      "\n",
      "xx=[]\n",
      "yy=[]\n",
      "for row in diversity[1:]:\n",
      "   xx.append(row[0])\n",
      "   yy.append(row[1])\n",
      "for i in range(0,31):\n",
      "    xx[i]=int(xx[i])\n",
      "    yy[i]=int(yy[i])\n",
      "print xx,yy"
     ],
     "language": "python",
     "metadata": {},
     "outputs": []
    },
    {
     "cell_type": "code",
     "collapsed": false,
     "input": [
      "fig, axes = plt.subplots()\n",
      "axes.plot(xx, yy, color=\"purple\", lw=1, ls='-', marker='o', markersize=8, markerfacecolor=\"red\")\n",
      "axes.set_xlabel('Students')\n",
      "axes.set_ylabel('Aggregate Numerical Answers')\n",
      "axes.set_title('Specialists vs. Generalists')"
     ],
     "language": "python",
     "metadata": {},
     "outputs": []
    },
    {
     "cell_type": "code",
     "collapsed": false,
     "input": [
      "prop = open(\"frac.csv\", \"r\")\n",
      "frac = list(csv.reader(prop))\n",
      "\n",
      "proportion=[]\n",
      "for row in frac[1:]:\n",
      "    proportion.append(row[1])\n",
      "for i in range(0,4):\n",
      "    proportion[i]=ast.literal_eval(proportion[i])\n",
      "print proportion"
     ],
     "language": "python",
     "metadata": {},
     "outputs": []
    },
    {
     "cell_type": "code",
     "collapsed": false,
     "input": [
      "mylabels=['Visual', 'Aural', 'Read/Write', 'Kinesthetic']\n",
      "mycolors=['blue', 'red', 'green', 'purple']\n",
      "pie(proportion,labels=mylabels,colors=mycolors,autopct='%1.1f%%', shadow=True, startangle=90)\n",
      "title('Class Proportion of each Learning Styles', bbox={'facecolor':'0.8', 'pad':5});"
     ],
     "language": "python",
     "metadata": {},
     "outputs": []
    },
    {
     "cell_type": "code",
     "collapsed": false,
     "input": [
      "personal = open(\"perexp.csv\", \"r\")\n",
      "perexp = list(csv.reader(personal))\n",
      "\n",
      "nn=[]\n",
      "perlabels = []\n",
      "cts=[]\n",
      "for row in perexp[1:]:\n",
      "    nn.append(int(row[0]))\n",
      "    perlabels.append(row[1])\n",
      "    cts.append(int(row[2]))\n",
      "print nn, perlabels, cts"
     ],
     "language": "python",
     "metadata": {},
     "outputs": []
    },
    {
     "cell_type": "code",
     "collapsed": false,
     "input": [
      "N = 1\n",
      "x1 = cts[0]\n",
      "\n",
      "ind = np.arange(N)  # the x locations for the groups\n",
      "width = 0.5      # the width of the bars\n",
      "\n",
      "fig, ab = plt.subplots(figsize=(10,4))\n",
      "rects1 = ab.bar(ind, x1, width, color='red', alpha=0.5)\n",
      "\n",
      "x2 = cts[1]\n",
      "rects2 = ab.bar(ind+2*width, x2, width, color='orange',alpha=0.5)\n",
      "\n",
      "x3 = cts[2]\n",
      "rects3 = ab.bar(ind+4*width, x3, width, color='yellow',alpha=0.5)\n",
      "\n",
      "x4 = cts[3]\n",
      "rects4 = ab.bar(ind+6*width, x4, width, color='green',alpha=0.5)\n",
      "\n",
      "x5 = cts[4]\n",
      "rects5 = ab.bar(ind+8*width, x5, width, color='blue',alpha=0.5)\n",
      "\n",
      "x6 = cts[5]\n",
      "rects6 = ab.bar(ind+10*width, x6, width, color='purple',alpha=0.5)\n",
      "ab.set_title('Where did you gain Personal Experiences')\n",
      "ab.set_ylabel('Counts')\n",
      "ab.set_xlabel('Categories')\n",
      "ab.set_xticks(ind+width)\n",
      "\n",
      "ab.legend((rects1[0], rects2[0], rects3[0],rects4[0],rects5[0],rects6[0]), (perlabels) , loc=\"upper right\")\n",
      "\n",
      "def autolabel(rects):\n",
      "    # attach some text labels\n",
      "    for rect in rects:\n",
      "        height = rect.get_height()\n",
      "        ab.text(rect.get_x()+rect.get_width()/2., 1.05*height, '%d'%int(height),\n",
      "                ha='center', va='bottom')\n",
      "        \n",
      "autolabel(rects1)\n",
      "autolabel(rects2)\n",
      "autolabel(rects3)\n",
      "autolabel(rects4)\n",
      "autolabel(rects5)\n",
      "autolabel(rects6)\n",
      "\n",
      "plt.show()"
     ],
     "language": "python",
     "metadata": {},
     "outputs": []
    },
    {
     "cell_type": "markdown",
     "metadata": {},
     "source": [
      "<h1>Conclusions</h1>\n",
      "We found that the distribution of aggregate aptitudes was distributed uniformly. This suggests the class as a whole has a balance in learning aptitude. The majority of the class has a lot of experience learning the material through personal projects. This may be attributable to thee computational aspects of the course as traditionally, programming is learned from experience outside of the classroom."
     ]
    },
    {
     "cell_type": "code",
     "collapsed": false,
     "input": [],
     "language": "python",
     "metadata": {},
     "outputs": []
    }
   ],
   "metadata": {}
  }
 ]
}