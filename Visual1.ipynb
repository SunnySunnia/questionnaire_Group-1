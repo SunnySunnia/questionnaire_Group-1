{
 "metadata": {
  "name": "Visual1"
 },
 "nbformat": 3,
 "nbformat_minor": 0,
 "worksheets": [
  {
   "cells": [
    {
     "cell_type": "code",
     "collapsed": false,
     "input": [
      "import numpy as np  \n",
      "import pandas as pd\n",
      "from pylab import *\n",
      "import matplotlib\n",
      "import matplotlib.pyplot\n",
      "import matplotlib.pyplot as plt\n",
      "from matplotlib.backends.backend_agg import FigureCanvasAgg as fc"
     ],
     "language": "python",
     "metadata": {},
     "outputs": [],
     "prompt_number": 6
    },
    {
     "cell_type": "code",
     "collapsed": false,
     "input": [
      "%pylab inline"
     ],
     "language": "python",
     "metadata": {},
     "outputs": [
      {
       "output_type": "stream",
       "stream": "stdout",
       "text": [
        "\n",
        "Welcome to pylab, a matplotlib-based Python environment [backend: module://IPython.zmq.pylab.backend_inline].\n",
        "For more information, type 'help(pylab)'.\n"
       ]
      }
     ],
     "prompt_number": 7
    },
    {
     "cell_type": "code",
     "collapsed": false,
     "input": [
      "from rpy2.robjects import r\n",
      "%load_ext rmagic"
     ],
     "language": "python",
     "metadata": {},
     "outputs": [],
     "prompt_number": 8
    },
    {
     "cell_type": "code",
     "collapsed": false,
     "input": [
      "import csv"
     ],
     "language": "python",
     "metadata": {},
     "outputs": [],
     "prompt_number": 40
    },
    {
     "cell_type": "code",
     "collapsed": false,
     "input": [
      "csvf = open(\"counts.csv\", \"r\")\n",
      "data = list(csv.reader(csvf))"
     ],
     "language": "python",
     "metadata": {},
     "outputs": [],
     "prompt_number": 41
    },
    {
     "cell_type": "code",
     "collapsed": false,
     "input": [
      "n=[]\n",
      "Visual = []\n",
      "Aural=[]\n",
      "RorW=[]\n",
      "Kines=[]\n",
      "for row in data[1:]:\n",
      "    n.append(row[0])\n",
      "    Visual.append(row[1])\n",
      "    Aural.append(row[2])\n",
      "    RorW.append(row[3])\n",
      "    Kines.append(row[4])\n",
      "print n,Visual,Aural,RorW,Kines"
     ],
     "language": "python",
     "metadata": {},
     "outputs": [
      {
       "output_type": "stream",
       "stream": "stdout",
       "text": [
        "['0', '1', '2', '3', '4', '5', '6', '7', '8', '9', '10', '11', '12', '13', '14', '15'] ['1', '1', '2', '2', '3', '2', '2', '2', '2', '6', '3', '2', '1', '1', '0', '1'] ['0', '2', '0', '4', '4', '2', '2', '4', '2', '2', '5', '4', '0', '0', '0', '0'] ['0', '1', '1', '2', '5', '2', '4', '3', '3', '3', '3', '2', '0', '1', '1', '0'] ['0', '1', '0', '1', '2', '8', '2', '4', '3', '2', '3', '3', '1', '1', '0', '0']\n"
       ]
      }
     ],
     "prompt_number": 42
    },
    {
     "cell_type": "code",
     "collapsed": false,
     "input": [
      "for i in range(0,16):\n",
      "    Visual[i]=int(Visual[i])\n",
      "print Visual"
     ],
     "language": "python",
     "metadata": {},
     "outputs": [
      {
       "output_type": "stream",
       "stream": "stdout",
       "text": [
        "[1, 1, 2, 2, 3, 2, 2, 2, 2, 6, 3, 2, 1, 1, 0, 1]\n"
       ]
      }
     ],
     "prompt_number": 43
    },
    {
     "cell_type": "code",
     "collapsed": false,
     "input": [
      "for i in range(0,16):\n",
      "    Aural[i]=int(Aural[i])\n",
      "print Aural"
     ],
     "language": "python",
     "metadata": {},
     "outputs": [
      {
       "output_type": "stream",
       "stream": "stdout",
       "text": [
        "[0, 2, 0, 4, 4, 2, 2, 4, 2, 2, 5, 4, 0, 0, 0, 0]\n"
       ]
      }
     ],
     "prompt_number": 44
    },
    {
     "cell_type": "code",
     "collapsed": false,
     "input": [
      "for i in range(0,16):\n",
      "    RorW[i]=int(RorW[i])\n",
      "print RorW"
     ],
     "language": "python",
     "metadata": {},
     "outputs": [
      {
       "output_type": "stream",
       "stream": "stdout",
       "text": [
        "[0, 1, 1, 2, 5, 2, 4, 3, 3, 3, 3, 2, 0, 1, 1, 0]\n"
       ]
      }
     ],
     "prompt_number": 45
    },
    {
     "cell_type": "code",
     "collapsed": false,
     "input": [
      "for i in range(0,16):\n",
      "    Kines[i]=int(Kines[i])\n",
      "print Kines"
     ],
     "language": "python",
     "metadata": {},
     "outputs": [
      {
       "output_type": "stream",
       "stream": "stdout",
       "text": [
        "[0, 1, 0, 1, 2, 8, 2, 4, 3, 2, 3, 3, 1, 1, 0, 0]\n"
       ]
      }
     ],
     "prompt_number": 46
    },
    {
     "cell_type": "code",
     "collapsed": false,
     "input": [
      "for i in range(0,16):\n",
      "    n[i]=int(n[i])\n",
      "print n"
     ],
     "language": "python",
     "metadata": {},
     "outputs": [
      {
       "output_type": "stream",
       "stream": "stdout",
       "text": [
        "[0, 1, 2, 3, 4, 5, 6, 7, 8, 9, 10, 11, 12, 13, 14, 15]\n"
       ]
      }
     ],
     "prompt_number": 47
    },
    {
     "cell_type": "code",
     "collapsed": false,
     "input": [
      "fig, axes = plt.subplots(1, 4, figsize=(12,3))\n",
      "axes[0].bar(n, Visual, align=\"center\", width=0.5, alpha=0.5)\n",
      "axes[0].set_xlabel('Visual')\n",
      "axes[1].bar(n, Aural, align=\"center\", width=0.5, alpha=0.5,color='r')\n",
      "axes[1].set_xlabel('Aural')\n",
      "axes[2].bar(n, RorW, align=\"center\", width=0.5, alpha=0.5,color='green')\n",
      "axes[2].set_xlabel('Read/Write')\n",
      "axes[3].bar(n, Kines, align=\"center\", width=0.5, alpha=0.5,color='purple')\n",
      "axes[3].set_xlabel('Kinesthetic');"
     ],
     "language": "python",
     "metadata": {},
     "outputs": [
      {
       "output_type": "display_data",
       "png": "[encoded data removed]"
      }
     ],
     "prompt_number": 48
    },
    {
     "cell_type": "code",
     "collapsed": false,
     "input": [],
     "language": "python",
     "metadata": {},
     "outputs": []
    },
    {
     "cell_type": "code",
     "collapsed": false,
     "input": [
      "frac=[29.03226,12.90323,29.03226,29.03226]\n",
      "mylabels=['Visual', 'Aural', 'Read/Write', 'Kinesthetic']\n",
      "mycolors=['blue', 'red', 'green', 'purple']\n",
      "pie(frac,labels=mylabels,colors=mycolors);"
     ],
     "language": "python",
     "metadata": {},
     "outputs": [
      {
       "output_type": "display_data",
       "png": "[encoded data removed]"
      }
     ],
     "prompt_number": 49
    },
    {
     "cell_type": "code",
     "collapsed": false,
     "input": [],
     "language": "python",
     "metadata": {},
     "outputs": []
    }
   ],
   "metadata": {}
  }
 ]
}