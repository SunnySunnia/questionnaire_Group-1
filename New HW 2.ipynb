{
 "metadata": {
  "name": "New HW 2"
 },
 "nbformat": 3,
 "nbformat_minor": 0,
 "worksheets": [
  {
   "cells": [
    {
     "cell_type": "code",
     "collapsed": false,
     "input": [
      "import os.path\n",
      "import ConfigParser\n",
      "import gspread\n",
      "home = os.path.expanduser(\"~\")"
     ],
     "language": "python",
     "metadata": {},
     "outputs": [],
     "prompt_number": 11
    },
    {
     "cell_type": "code",
     "collapsed": false,
     "input": [
      "configfile = os.path.join(home, 'stat157.cfg')\n",
      "config = ConfigParser.SafeConfigParser()\n",
      "config.read(configfile)\n",
      "docid = config.get('questionnaire', 'docid')\n",
      "username = config.get('google', 'username')\n",
      "password = config.get('google', 'password')\n",
      "print username\n",
      "# BUG: I've hard coded this variable instead of reading from the cfg file due to\n",
      "# human error in replicating the cfg file, so adding temporary\n",
      "client = gspread.login(username, password)\n",
      "spreadsheet = client.open_by_key(docid)\n",
      "#In the ~/project1/stat157.cfg file, edit docid, that is where the error is\n",
      "worksheet = spreadsheet.get_worksheet(0)\n",
      "print docid\n"
     ],
     "language": "python",
     "metadata": {},
     "outputs": [
      {
       "ename": "SpreadsheetNotFound",
       "evalue": "",
       "output_type": "pyerr",
       "traceback": [
        "\u001b[0;31m---------------------------------------------------------------------------\u001b[0m\n\u001b[0;31mSpreadsheetNotFound\u001b[0m                       Traceback (most recent call last)",
        "\u001b[0;32m<ipython-input-12-6ba6692fec7b>\u001b[0m in \u001b[0;36m<module>\u001b[0;34m()\u001b[0m\n\u001b[1;32m      9\u001b[0m \u001b[0mdocid\u001b[0m \u001b[0;34m=\u001b[0m \u001b[0mspreadsheet\u001b[0m \u001b[0;34m=\u001b[0m \u001b[0mclient\u001b[0m\u001b[0;34m.\u001b[0m\u001b[0mopen_by_key\u001b[0m\u001b[0;34m(\u001b[0m\u001b[0mdocid\u001b[0m\u001b[0;34m)\u001b[0m\u001b[0;34m\u001b[0m\u001b[0m\n\u001b[1;32m     10\u001b[0m \u001b[0mclient\u001b[0m \u001b[0;34m=\u001b[0m \u001b[0mgspread\u001b[0m\u001b[0;34m.\u001b[0m\u001b[0mlogin\u001b[0m\u001b[0;34m(\u001b[0m\u001b[0musername\u001b[0m\u001b[0;34m,\u001b[0m \u001b[0mpassword\u001b[0m\u001b[0;34m)\u001b[0m\u001b[0;34m\u001b[0m\u001b[0m\n\u001b[0;32m---> 11\u001b[0;31m \u001b[0mspreadsheet\u001b[0m \u001b[0;34m=\u001b[0m \u001b[0mclient\u001b[0m\u001b[0;34m.\u001b[0m\u001b[0mopen_by_key\u001b[0m\u001b[0;34m(\u001b[0m\u001b[0mdocid\u001b[0m\u001b[0;34m)\u001b[0m\u001b[0;34m\u001b[0m\u001b[0m\n\u001b[0m\u001b[1;32m     12\u001b[0m \u001b[0;31m#In the ~/project1/stat157.cfg file, edit docid, that is where the error is\u001b[0m\u001b[0;34m\u001b[0m\u001b[0;34m\u001b[0m\u001b[0m\n\u001b[1;32m     13\u001b[0m \u001b[0mworksheet\u001b[0m \u001b[0;34m=\u001b[0m \u001b[0mspreadsheet\u001b[0m\u001b[0;34m.\u001b[0m\u001b[0mget_worksheet\u001b[0m\u001b[0;34m(\u001b[0m\u001b[0;36m0\u001b[0m\u001b[0;34m)\u001b[0m\u001b[0;34m\u001b[0m\u001b[0m\n",
        "\u001b[0;32m/usr/local/lib/python2.7/dist-packages/gspread/client.pyc\u001b[0m in \u001b[0;36mopen_by_key\u001b[0;34m(self, key)\u001b[0m\n\u001b[1;32m    151\u001b[0m                 \u001b[0;32mreturn\u001b[0m \u001b[0mSpreadsheet\u001b[0m\u001b[0;34m(\u001b[0m\u001b[0mself\u001b[0m\u001b[0;34m,\u001b[0m \u001b[0melem\u001b[0m\u001b[0;34m)\u001b[0m\u001b[0;34m\u001b[0m\u001b[0m\n\u001b[1;32m    152\u001b[0m         \u001b[0;32melse\u001b[0m\u001b[0;34m:\u001b[0m\u001b[0;34m\u001b[0m\u001b[0m\n\u001b[0;32m--> 153\u001b[0;31m             \u001b[0;32mraise\u001b[0m \u001b[0mSpreadsheetNotFound\u001b[0m\u001b[0;34m\u001b[0m\u001b[0m\n\u001b[0m\u001b[1;32m    154\u001b[0m \u001b[0;34m\u001b[0m\u001b[0m\n\u001b[1;32m    155\u001b[0m     \u001b[0;32mdef\u001b[0m \u001b[0mopen_by_url\u001b[0m\u001b[0;34m(\u001b[0m\u001b[0mself\u001b[0m\u001b[0;34m,\u001b[0m \u001b[0murl\u001b[0m\u001b[0;34m)\u001b[0m\u001b[0;34m:\u001b[0m\u001b[0;34m\u001b[0m\u001b[0m\n",
        "\u001b[0;31mSpreadsheetNotFound\u001b[0m: "
       ]
      },
      {
       "output_type": "stream",
       "stream": "stdout",
       "text": [
        "arifyali@berkeley.edu\n"
       ]
      }
     ],
     "prompt_number": 12
    },
    {
     "cell_type": "code",
     "collapsed": false,
     "input": [
      "le = \"What is your learning style?\"\n",
      "pe = \"Where did you gain personal experience?\"\n",
      "columns = [le, pe]\n",
      "data_for_HW2 = []\n",
      "for row in worksheet.get_all_records():\n",
      "    data_for_HW2.append({k:v for k,v in row.iteritems()\n",
      "                        if k in columns})\n",
      "#print data_for_HW2\n",
      "#data_hw2 = worksheet.get_all_records()\n",
      "#data_hw2_1 = worksheet.get_all_values()\n",
      "#hw2_newlist = []\n",
      "#for row in data_hw2_1 :\n",
      "#   hw2_newlist.append(row[1])\n",
      "    \n",
      "#testing_exports = open(\"157_hw2_colimn.txt\",  'w')\n",
      "#testing_exports.write(hw2_newlist[1])\n",
      "#testing_exports.close()"
     ],
     "language": "python",
     "metadata": {},
     "outputs": []
    },
    {
     "cell_type": "code",
     "collapsed": false,
     "input": [
      "HW2 = []\n",
      "with open(\"Learning.txt\", \"w\") as f, open(\"personal.txt\", \"w\") as f2:\n",
      "    for row in data_for_HW2:\n",
      "        LE = row[le] +\"\\n\"\n",
      "        print LE\n",
      "        PE = row[pe] + \"\\n\"\n",
      "        print PE \n",
      "        f.write(LE.encode(\"utf-8\"))\n",
      "        f2.write(PE.encode(\"utf-8\"))"
     ],
     "language": "python",
     "metadata": {},
     "outputs": []
    },
    {
     "cell_type": "code",
     "collapsed": false,
     "input": [],
     "language": "python",
     "metadata": {},
     "outputs": []
    }
   ],
   "metadata": {}
  }
 ]
}